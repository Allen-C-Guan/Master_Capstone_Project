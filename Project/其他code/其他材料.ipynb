{
 "cells": [
  {
   "cell_type": "markdown",
   "metadata": {},
   "source": [
    "# 如何单个用generate采集数据"
   ]
  },
  {
   "cell_type": "code",
   "execution_count": null,
   "metadata": {},
   "outputs": [],
   "source": [
    "import numpy as np\n",
    "\n",
    "image_test, label_test = predict_data.next() # 获取迭代器的下一个\n",
    "predicted_result = model.predict(image_test) # 预测，\n",
    "print(class_names[np.argmax(predicted_result, axis=-1)])# one-hot中最大的index拿出来，对应上class，name里按顺序放好的name\n",
    "plt.figure()\n",
    "plt.imshow(image_test[0])\n",
    "plt.savefig('test3.jpg')"
   ]
  },
  {
   "cell_type": "markdown",
   "metadata": {},
   "source": [
    "# 如何不用generate采集数据"
   ]
  },
  {
   "cell_type": "code",
   "execution_count": null,
   "metadata": {},
   "outputs": [],
   "source": [
    "import os\n",
    "from PIL import Image\n",
    "from keras.preprocessing.image import img_to_array\n",
    "import numpy as np\n",
    "\n",
    "\n",
    "for imgname in os.listdir(\"/Users/allen/Desktop/Project/Pictures/test\"):    # 参数是文件夹路径 directory\n",
    "    img = Image.open( \"/Users/allen/Desktop/Project/Pictures/test/test.jpg\" )#读图\n",
    "    arr = np.array(img)# 转化为np\n",
    "    '''\n",
    "    TODO: array转化size\n",
    "    '''\n",
    "    print(np.shape(np.array([arr])))# 首维增加一个bitch的维度，维度为1.\n",
    "    model.predict(np.array([arr]))\n",
    "    break"
   ]
  }
 ],
 "metadata": {
  "kernelspec": {
   "display_name": "Python 3",
   "language": "python",
   "name": "python3"
  },
  "language_info": {
   "codemirror_mode": {
    "name": "ipython",
    "version": 3
   },
   "file_extension": ".py",
   "mimetype": "text/x-python",
   "name": "python",
   "nbconvert_exporter": "python",
   "pygments_lexer": "ipython3",
   "version": "3.7.3"
  }
 },
 "nbformat": 4,
 "nbformat_minor": 2
}
